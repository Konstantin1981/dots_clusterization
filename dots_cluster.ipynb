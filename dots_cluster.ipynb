{
 "cells": [
  {
   "cell_type": "code",
   "execution_count": 1122,
   "metadata": {},
   "outputs": [],
   "source": [
    "import pandas as pd\n",
    "import matplotlib.pyplot as plt\n",
    "import seaborn as sns\n",
    "import numpy as np\n",
    "import os\n",
    "from scipy.cluster.hierarchy import centroid, fcluster\n",
    "from scipy.spatial.distance import pdist\n",
    "import imageio"
   ]
  },
  {
   "cell_type": "markdown",
   "metadata": {},
   "source": [
    "Task 3: Clustering spatial data. The input is a raster (in jpg format) and a list of points (in raster coordinates). It is necessary to combine \"close\" points into clusters and display each cluster on the raster with one icon.\n",
    "\n",
    "Optional: the ability to set the degree of \"proximity\". Optional: displays the number of origin points that fall into each of the clusters."
   ]
  },
  {
   "cell_type": "markdown",
   "metadata": {},
   "source": [
    "Test data generation."
   ]
  },
  {
   "cell_type": "code",
   "execution_count": 1147,
   "metadata": {},
   "outputs": [],
   "source": [
    "path = \"D://\""
   ]
  },
  {
   "cell_type": "code",
   "execution_count": 2154,
   "metadata": {},
   "outputs": [],
   "source": [
    "img = np.full((1000, 1000, 3), fill_value = 255, dtype='uint8') # ndarray that represent image 1000x1000 size filled white color"
   ]
  },
  {
   "cell_type": "code",
   "execution_count": 2155,
   "metadata": {},
   "outputs": [],
   "source": [
    "# generate n clouds of dots on the (img.shape[0] x img.shape[1]) plane\n",
    "dots = []  # empty lists of dots coordinates\n",
    "n = 10 # number of clouds\n",
    "m = 10 # number of dots in each cloud\n",
    "for i in range(n):\n",
    "    x = np.random.randint(0, img.shape[1])  # rnd coordinates of cloud \n",
    "    y = np.random.randint(0, img.shape[0])\n",
    "    m1 = np.random.randint(5, 10)  # random multiplier for cloud variance\n",
    "    m2 = np.random.randint(5, 10)\n",
    "    x_var = img.shape[0] // m1  # variance along axis\n",
    "    y_var = img.shape[1] // m2\n",
    "    x_coord = np.random.randn(m) * x_var + x  #coordinates for dots of cloud\n",
    "    y_coord = np.random.randn(m) * y_var + y\n",
    "    \n",
    "    # filling plain with dots\n",
    "    for i in range(x_coord.shape[0]):\n",
    "        xi = x_coord[i]\n",
    "        yi = y_coord[i]\n",
    "        if xi >= img.shape[1]:\n",
    "            xi = img.shape[1] - 4\n",
    "        if yi >= img.shape[0]:\n",
    "            yi = img.shape[0] - 4\n",
    "        if xi < 0:\n",
    "            xi = 4\n",
    "        if yi < 0:\n",
    "            yi = 4\n",
    "        dots.append([int(yi), int(xi)])\n",
    "        # img[int(yi) - 2 : int(yi) + 2, int(xi) - 2 : int(xi) + 2, :] = 0  # place dots on image\n",
    "# imageio.imwrite(os.path.join(path, \"1.png\"), img)  # write image to file for visualization"
   ]
  },
  {
   "cell_type": "code",
   "execution_count": 2156,
   "metadata": {},
   "outputs": [],
   "source": [
    "dots_np = np.asarray(dots)  # converting to ndarray\n",
    "dots_df = pd.DataFrame(dots_np, columns=[\"y\", \"x\"]) # as DataFrame"
   ]
  },
  {
   "cell_type": "code",
   "execution_count": null,
   "metadata": {},
   "outputs": [],
   "source": []
  },
  {
   "cell_type": "markdown",
   "metadata": {},
   "source": [
    "I used a centroid linkage. Centroid and ward linkages work well with the cloud-like data. Depends on the type of data the other approaches of clusterization may be more suitable."
   ]
  },
  {
   "cell_type": "code",
   "execution_count": 2157,
   "metadata": {},
   "outputs": [],
   "source": [
    "dm = pdist(dots)  # condensed distance matrix"
   ]
  },
  {
   "cell_type": "code",
   "execution_count": 2158,
   "metadata": {},
   "outputs": [],
   "source": [
    "dg = centroid(dm) # linkage of dm with centroid method"
   ]
  },
  {
   "cell_type": "markdown",
   "metadata": {},
   "source": [
    "Optimisation of distance parameter for clusterization with fcluster"
   ]
  },
  {
   "cell_type": "code",
   "execution_count": 2159,
   "metadata": {},
   "outputs": [],
   "source": [
    "mean_dist = dm.mean()  # mean distance between all dots on plot"
   ]
  },
  {
   "cell_type": "code",
   "execution_count": 2160,
   "metadata": {},
   "outputs": [],
   "source": [
    "start = 5\n",
    "step = 10\n",
    "dist_range = range(start, int(mean_dist) + 2 * step, step) # the steps of distance"
   ]
  },
  {
   "cell_type": "code",
   "execution_count": 2161,
   "metadata": {
    "scrolled": true
   },
   "outputs": [],
   "source": [
    "average_meandist = [] # list to collect averaged inner group distances for each step of distance\n",
    "cluster_number = [] # list to collect numbers of clusters for each step of distance\n",
    "for dist in dist_range:\n",
    "    # fcluster returns array of clusters numbers for each observation in dg for current dist\n",
    "    clust_list = pd.Series(fcluster(dg, dist, criterion='distance')) # list of clusters indexes\n",
    "    cluster_number.append(clust_list.nunique()) # nuber of clusters for current dist\n",
    "    dots_df[\"clust_list\"] = clust_list # df to select observations wich belong to current cluster index\n",
    "    list_nclust_meandist = []  # list to collect inner group mean distances for each cluster\n",
    "    for nclust in dots_df.clust_list.unique():\n",
    "        clust_size =dots_df[clust_list == nclust][[\"y\", \"x\"]].shape[0]\n",
    "        if clust_size > 1:  # cluster of one dot don't have mean distance\n",
    "            nclust_meandist = pdist(dots_df[clust_list == nclust][[\"y\", \"x\"]]).mean() # inner group distance for each cluster\n",
    "            list_nclust_meandist.append(nclust_meandist)\n",
    "        else:\n",
    "            list_nclust_meandist.append(0)\n",
    "    average_meandist.append(pd.Series(list_nclust_meandist).mean())\n",
    "dots_df = dots_df.drop(\"clust_list\", axis=1)"
   ]
  },
  {
   "cell_type": "code",
   "execution_count": 2162,
   "metadata": {},
   "outputs": [],
   "source": [
    "# increasment of averaged mean dist for each step of distance\n",
    "av_meandist_incr = np.array(average_meandist)[1:] - np.array(average_meandist)[0:-1]"
   ]
  },
  {
   "cell_type": "code",
   "execution_count": 2163,
   "metadata": {},
   "outputs": [],
   "source": [
    "# df to combine all data for analysis\n",
    "analysis_df = pd.DataFrame({\"dist\": dist_range[1:], \n",
    "                            \"av_meandist_incr\": av_meandist_incr, \"cluster_number\": pd.Series(cluster_number)[1:]})"
   ]
  },
  {
   "cell_type": "code",
   "execution_count": 2164,
   "metadata": {
    "scrolled": true
   },
   "outputs": [
    {
     "data": {
      "text/plain": [
       "<AxesSubplot:xlabel='dist', ylabel='av_meandist_incr'>"
      ]
     },
     "execution_count": 2164,
     "metadata": {},
     "output_type": "execute_result"
    },
    {
     "data": {
      "image/png": "[encoded data removed]",
      "text/plain": [
       "<Figure size 432x288 with 1 Axes>"
      ]
     },
     "metadata": {
      "needs_background": "light"
     },
     "output_type": "display_data"
    }
   ],
   "source": [
    "sns.lineplot(data=analysis_df, x=\"dist\", y=\"av_meandist_incr\")"
   ]
  },
  {
   "cell_type": "markdown",
   "metadata": {},
   "source": [
    "There are many ways to calculate cut-off criteria for the level of clusterization. The choice depends on the type of data we are analyzing. One of them is the average inner group mean distance. It works well when the clusters are well separated and close in size. When the increasing of the average inner group mean distance becomes zero it means that no additional points for this step of distance.\n",
    "There are two variations of this aproach:"
   ]
  },
  {
   "cell_type": "code",
   "execution_count": null,
   "metadata": {
    "scrolled": true
   },
   "outputs": [],
   "source": []
  },
  {
   "cell_type": "markdown",
   "metadata": {},
   "source": [
    "Distance for the first step with 0 increasing of averaged inner group mean distance to find the case with maximum diversity of clusterization. To avoid clustering on separete dots there is a special check for condition = if the mean number of dots > 1.5 "
   ]
  },
  {
   "cell_type": "code",
   "execution_count": 2165,
   "metadata": {},
   "outputs": [],
   "source": [
    "i = 0\n",
    "while True:\n",
    "    cut2 = analysis_df[analysis_df[\"av_meandist_incr\"] == 0].dist.iloc[i]\n",
    "    dots_df[\"list2\"] = fcluster(dg, cut2, criterion='distance')\n",
    "    list2_unique = dots_df[\"list2\"].unique()\n",
    "    if dots_df.list2.value_counts().mean() >= 1.5:\n",
    "        break\n",
    "    i += 1"
   ]
  },
  {
   "cell_type": "code",
   "execution_count": 2166,
   "metadata": {},
   "outputs": [],
   "source": [
    "# compute centroids coordinates\n",
    "clusters2 = []\n",
    "for i in list2_unique:\n",
    "    n = dots_df[dots_df.list2 == i][[\"y\", \"x\"]].shape[0]\n",
    "    if n > 1:\n",
    "        y, x = dots_df[dots_df.list2 == i][[\"y\", \"x\"]].mean()\n",
    "    else:\n",
    "        y, x = dots_df[dots_df.list2 == i][[\"y\", \"x\"]].iloc[0]\n",
    "    clusters2.append([int(y), int(x)])"
   ]
  },
  {
   "cell_type": "code",
   "execution_count": 2167,
   "metadata": {},
   "outputs": [],
   "source": [
    "# print a label in center of cut2 clusters\n",
    "# to do: draw a numbers 0-9 to be printed as labels on plot\n",
    "for i in clusters2:\n",
    "    y, x = i    \n",
    "    img[y - 3 : y + 4, x - 3 : x + 4, :] = \\\n",
    "                            [[[255, 0, 0], [255,0,0], [255,0,0], [255,0,0], [255,0,0], [255,0,0], [255,0,0]], \n",
    "                            [[255, 0, 0], [255,255,255], [255,255,255], [255,255,255], [255,255,255], [255,255,255], [255,0,0]],\n",
    "                            [[255, 0, 0], [255,255,255], [255,255,255], [255,255,255], [255,255,255], [255,255,255], [255,0,0]],\n",
    "                            [[255, 0, 0], [255,255,255], [255,255,255], [255,255,255], [255,255,255], [255,255,255], [255,0,0]],\n",
    "                            [[255, 0, 0], [255,255,255], [255,255,255], [255,255,255], [255,255,255], [255,255,255], [255,0,0]],\n",
    "                            [[255, 0, 0], [255,255,255], [255,255,255], [255,255,255], [255,255,255], [255,255,255], [255,0,0]],\n",
    "                            [[255, 0, 0], [255,0,0], [255,0,0], [255,0,0], [255,0,0], [255,0,0], [255,0,0]]]"
   ]
  },
  {
   "cell_type": "code",
   "execution_count": 2168,
   "metadata": {},
   "outputs": [],
   "source": [
    "# Distance for the first step of the longest interval with a constant number of clusters. Find the most separated clusters.\n",
    "nclust_find = analysis_df[analysis_df[\"av_meandist_incr\"] == 0].cluster_number.value_counts().head(1).index[0]\n",
    "cut1 = analysis_df[analysis_df.cluster_number == nclust_find].dist.iloc[0]\n",
    "dots_df[\"list1\"] = fcluster(dg, cut1, criterion='distance')\n",
    "list1_unique = dots_df[\"list1\"].unique()\n",
    "\n",
    "# Color labeling for cut1 clusters. Up to 7 clusters.\n",
    "# to do: more colors \n",
    "colors = [[255, 0, 0], [0, 255, 0], [0, 0, 255], [255, 255, 0], [0, 255, 255], [255, 0, 255], [0, 0, 0]]\n",
    "if len(list1_unique) <=7: \n",
    "    for i in list1_unique:\n",
    "        for line in range(dots_df[dots_df.list1 == i].shape[0]):\n",
    "            y, x = dots_df[dots_df.list1 == i][[\"y\", \"x\"]].iloc[line]\n",
    "            img[y - 2 : y + 2, x - 2 : x + 2, :] = colors[i - 1]"
   ]
  },
  {
   "cell_type": "code",
   "execution_count": 2169,
   "metadata": {
    "scrolled": false
   },
   "outputs": [
    {
     "data": {
      "text/plain": [
       "<matplotlib.image.AxesImage at 0x3ca8e6a0>"
      ]
     },
     "execution_count": 2169,
     "metadata": {},
     "output_type": "execute_result"
    },
    {
     "data": {
      "image/png": "[encoded data removed]",
      "text/plain": [
       "<Figure size 1440x1440 with 1 Axes>"
      ]
     },
     "metadata": {
      "needs_background": "light"
     },
     "output_type": "display_data"
    }
   ],
   "source": [
    "fig = plt.figure(figsize=(20, 20))\n",
    "plt.imshow(img)"
   ]
  },
  {
   "cell_type": "code",
   "execution_count": 1704,
   "metadata": {},
   "outputs": [],
   "source": [
    "# write image to file\n",
    "# imageio.imwrite(os.path.join(path, \"2.tiff\"), img)"
   ]
  },
  {
   "cell_type": "code",
   "execution_count": null,
   "metadata": {},
   "outputs": [],
   "source": []
  },
  {
   "cell_type": "code",
   "execution_count": 1678,
   "metadata": {},
   "outputs": [
    {
     "data": {
      "image/png": "[encoded data removed]",
      "text/plain": [
       "<Figure size 1440x1440 with 1 Axes>"
      ]
     },
     "metadata": {
      "needs_background": "light"
     },
     "output_type": "display_data"
    }
   ],
   "source": [
    "from scipy.cluster.hierarchy import dendrogram, linkage\n",
    "from matplotlib import pyplot as plt\n",
    "\n",
    "z = linkage(dm, 'centroid')\n",
    "fig = plt.figure(figsize=(20, 20))\n",
    "dn = dendrogram(z)"
   ]
  },
  {
   "cell_type": "code",
   "execution_count": 2088,
   "metadata": {},
   "outputs": [
    {
     "data": {
      "text/plain": [
       "array([1], dtype=int32)"
      ]
     },
     "execution_count": 2088,
     "metadata": {},
     "output_type": "execute_result"
    }
   ],
   "source": [
    "list2_unique"
   ]
  }
 ],
 "metadata": {
  "kernelspec": {
   "display_name": "Python 3",
   "language": "python",
   "name": "python3"
  },
  "language_info": {
   "codemirror_mode": {
    "name": "ipython",
    "version": 3
   },
   "file_extension": ".py",
   "mimetype": "text/x-python",
   "name": "python",
   "nbconvert_exporter": "python",
   "pygments_lexer": "ipython3",
   "version": "3.8.5"
  }
 },
 "nbformat": 4,
 "nbformat_minor": 4
}
